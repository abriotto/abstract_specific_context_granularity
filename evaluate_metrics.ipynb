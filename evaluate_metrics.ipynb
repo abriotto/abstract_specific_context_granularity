{
 "cells": [
  {
   "cell_type": "code",
   "execution_count": 1,
   "metadata": {},
   "outputs": [],
   "source": [
    "import pickle\n",
    "from utils.analysis_from_interaction import *\n",
    "from egg.core.language_analysis import Disent\n",
    "from language_analysis_local import TopographicSimilarityHierarchical, encode_input_for_topsim_hierarchical"
   ]
  },
  {
   "cell_type": "markdown",
   "metadata": {},
   "source": [
    "# calculate metrics from stored interactions"
   ]
  },
  {
   "cell_type": "code",
   "execution_count": 32,
   "metadata": {},
   "outputs": [],
   "source": [
    "control = False # whether original or control simulations are evaluated\n",
    "\n",
    "if control:\n",
    "    datasets = ('(4,8)', '(4,8)', '(4,8)', '(4,8)', '(4,8)', '(4,8)', '(4,8)')\n",
    "    n_attributes = (4, 4, 4, 4, 4, 4, 4)\n",
    "    n_values = (8, 8, 8, 8, 8, 8, 8)\n",
    "    n_epochs = 300\n",
    "    paths = ['results/(4,8)_sample_scaling_10_balanced_True_vsf_1/', \n",
    "             'results/(4,8)_sample_scaling_10_balanced_False_vsf_1/',\n",
    "             'results/(4,8)_sample_scaling_10_balanced_True_vsf_2/', \n",
    "             'results/(4,8)_sample_scaling_10_balanced_False_vsf_2/',\n",
    "             'results/(4,8)_sample_scaling_10_balanced_True_vsf_3/', \n",
    "             'results/(4,8)_sample_scaling_10_balanced_True_vsf_4/', \n",
    "             'results/(4,8)_sample_scaling_10_balanced_False_vsf_4/',]\n",
    "    \n",
    "else: \n",
    "    #datasets = ('(3,4)', '(3,8)', '(3,16)', '(4,4)', '(4,8)', '(5,4)')\n",
    "    datasets = ('(4,4)',)\n",
    "    #n_attributes = (3, 3, 3, 4, 4, 5)\n",
    "    n_attributes = (4,)\n",
    "    #n_values = (4, 8, 16, 4, 8, 4)\n",
    "    n_values = (4,)\n",
    "    #n_epochs = 300\n",
    "    n_epochs = 100\n",
    "    #paths = ['results/' + d + '_sample_scaling_10_balanced_False_vsf_3/' for d in datasets]\n",
    "    paths = ['results/' + d + '_game_size_10_vsf_3/' for d in datasets]\n",
    "\n"
   ]
  },
  {
   "cell_type": "code",
   "execution_count": 20,
   "metadata": {},
   "outputs": [],
   "source": [
    "# run once to rename all interaction files 'interaction'\n",
    "# simulations were run 2021 or 2022, so they have '2021' or '2022' in name\n",
    "# import os\n",
    "\n",
    "# for d, dataset in enumerate(datasets): \n",
    "#     #for folder in ['standard', 'zero_shot']:\n",
    "#     for folder in ['standard',]:\n",
    "#         #for run in range(5):\n",
    "#         for run in range(1):\n",
    "#             directories = os.listdir(paths[d] + folder + '/' + str(run) + '/')\n",
    "#             for direct in directories: \n",
    "#                 if '2021' in direct or '2022' in direct: \n",
    "#                     os.rename(paths[d] + folder + '/' + str(run) + '/' + direct, \n",
    "#                               paths[d] + folder + '/' + str(run) + '/interactions')\n"
   ]
  },
  {
   "cell_type": "markdown",
   "metadata": {},
   "source": [
    "### entropy scores: MI, effectiveness, efficiency"
   ]
  },
  {
   "cell_type": "code",
   "execution_count": 35,
   "metadata": {},
   "outputs": [
    {
     "name": "stdout",
     "output_type": "stream",
     "text": [
      "results/(4,4)_game_size_10_vsf_3/standard/0/interactions/train/epoch_100/interaction_gpu0\n"
     ]
    },
    {
     "ename": "ValueError",
     "evalue": "could not broadcast input array from shape (11917,16) into shape (11917)",
     "output_type": "error",
     "traceback": [
      "\u001b[1;31m---------------------------------------------------------------------------\u001b[0m",
      "\u001b[1;31mValueError\u001b[0m                                Traceback (most recent call last)",
      "\u001b[1;32m<ipython-input-35-52e96a09e0b0>\u001b[0m in \u001b[0;36m<module>\u001b[1;34m\u001b[0m\n\u001b[0;32m     12\u001b[0m         \u001b[0mattributes\u001b[0m \u001b[1;33m=\u001b[0m \u001b[0mn_attributes\u001b[0m\u001b[1;33m[\u001b[0m\u001b[0md\u001b[0m\u001b[1;33m]\u001b[0m\u001b[1;33m\u001b[0m\u001b[1;33m\u001b[0m\u001b[0m\n\u001b[0;32m     13\u001b[0m         \u001b[0mvalues\u001b[0m \u001b[1;33m=\u001b[0m \u001b[0mn_values\u001b[0m\u001b[1;33m[\u001b[0m\u001b[0md\u001b[0m\u001b[1;33m]\u001b[0m\u001b[1;33m\u001b[0m\u001b[1;33m\u001b[0m\u001b[0m\n\u001b[1;32m---> 14\u001b[1;33m         \u001b[0mscores\u001b[0m \u001b[1;33m=\u001b[0m \u001b[0minformation_scores\u001b[0m\u001b[1;33m(\u001b[0m\u001b[0minteraction\u001b[0m\u001b[1;33m,\u001b[0m \u001b[0mattributes\u001b[0m\u001b[1;33m,\u001b[0m \u001b[0mvalues\u001b[0m\u001b[1;33m,\u001b[0m \u001b[0mnormalizer\u001b[0m\u001b[1;33m=\u001b[0m\u001b[1;34m\"arithmetic\"\u001b[0m\u001b[1;33m)\u001b[0m\u001b[1;33m\u001b[0m\u001b[1;33m\u001b[0m\u001b[0m\n\u001b[0m\u001b[0;32m     15\u001b[0m \u001b[1;33m\u001b[0m\u001b[0m\n\u001b[0;32m     16\u001b[0m         \u001b[0mpickle\u001b[0m\u001b[1;33m.\u001b[0m\u001b[0mdump\u001b[0m\u001b[1;33m(\u001b[0m\u001b[0mscores\u001b[0m\u001b[1;33m,\u001b[0m \u001b[0mopen\u001b[0m\u001b[1;33m(\u001b[0m\u001b[0mpath_to_run\u001b[0m \u001b[1;33m+\u001b[0m \u001b[1;34m'entropy_scores.pkl'\u001b[0m\u001b[1;33m,\u001b[0m \u001b[1;34m'wb'\u001b[0m\u001b[1;33m)\u001b[0m\u001b[1;33m)\u001b[0m\u001b[1;33m\u001b[0m\u001b[1;33m\u001b[0m\u001b[0m\n",
      "\u001b[1;32mc:\\Users\\krkobrock\\Projects\\phdproject1\\emergent-abstractions\\utils\\analysis_from_interaction.py\u001b[0m in \u001b[0;36minformation_scores\u001b[1;34m(interaction, n_dims, n_values, normalizer)\u001b[0m\n\u001b[0;32m     41\u001b[0m     \u001b[0mobjects\u001b[0m \u001b[1;33m=\u001b[0m \u001b[0msender_input\u001b[0m\u001b[1;33m[\u001b[0m\u001b[1;33m:\u001b[0m\u001b[1;33m,\u001b[0m \u001b[1;33m:\u001b[0m\u001b[1;33m-\u001b[0m\u001b[0mn_dims\u001b[0m\u001b[1;33m]\u001b[0m\u001b[1;33m\u001b[0m\u001b[1;33m\u001b[0m\u001b[0m\n\u001b[0;32m     42\u001b[0m     \u001b[0mintentions\u001b[0m \u001b[1;33m=\u001b[0m \u001b[0msender_input\u001b[0m\u001b[1;33m[\u001b[0m\u001b[1;33m:\u001b[0m\u001b[1;33m,\u001b[0m \u001b[1;33m-\u001b[0m\u001b[0mn_dims\u001b[0m\u001b[1;33m:\u001b[0m\u001b[1;33m]\u001b[0m\u001b[1;33m\u001b[0m\u001b[1;33m\u001b[0m\u001b[0m\n\u001b[1;32m---> 43\u001b[1;33m     \u001b[0mmessages\u001b[0m \u001b[1;33m=\u001b[0m \u001b[0minteraction\u001b[0m\u001b[1;33m.\u001b[0m\u001b[0mmessage\u001b[0m\u001b[1;33m.\u001b[0m\u001b[0margmax\u001b[0m\u001b[1;33m(\u001b[0m\u001b[0mdim\u001b[0m\u001b[1;33m=\u001b[0m\u001b[1;33m-\u001b[0m\u001b[1;36m1\u001b[0m\u001b[1;33m)\u001b[0m\u001b[1;33m\u001b[0m\u001b[1;33m\u001b[0m\u001b[0m\n\u001b[0m\u001b[0;32m     44\u001b[0m     \u001b[0mobjects\u001b[0m \u001b[1;33m=\u001b[0m \u001b[0mk_hot_to_attributes\u001b[0m\u001b[1;33m(\u001b[0m\u001b[0mobjects\u001b[0m\u001b[1;33m,\u001b[0m \u001b[0mn_values\u001b[0m\u001b[1;33m)\u001b[0m\u001b[1;33m\u001b[0m\u001b[1;33m\u001b[0m\u001b[0m\n\u001b[0;32m     45\u001b[0m     \u001b[0mobjects\u001b[0m \u001b[1;33m=\u001b[0m \u001b[0mobjects\u001b[0m \u001b[1;33m+\u001b[0m \u001b[1;36m1\u001b[0m\u001b[1;33m\u001b[0m\u001b[1;33m\u001b[0m\u001b[0m\n",
      "\u001b[1;32mc:\\Users\\krkobrock\\Projects\\phdproject1\\emergent-abstractions\\utils\\analysis_from_interaction.py\u001b[0m in \u001b[0;36mk_hot_to_attributes\u001b[1;34m(khots, dimsize)\u001b[0m\n\u001b[0;32m     11\u001b[0m     \u001b[0mattributes\u001b[0m \u001b[1;33m=\u001b[0m \u001b[0mnp\u001b[0m\u001b[1;33m.\u001b[0m\u001b[0mzeros\u001b[0m\u001b[1;33m(\u001b[0m\u001b[1;33m(\u001b[0m\u001b[0mlen\u001b[0m\u001b[1;33m(\u001b[0m\u001b[0mkhots\u001b[0m\u001b[1;33m)\u001b[0m\u001b[1;33m,\u001b[0m \u001b[0mn_attributes\u001b[0m\u001b[1;33m)\u001b[0m\u001b[1;33m)\u001b[0m\u001b[1;33m\u001b[0m\u001b[1;33m\u001b[0m\u001b[0m\n\u001b[0;32m     12\u001b[0m     \u001b[1;32mfor\u001b[0m \u001b[0matt\u001b[0m \u001b[1;32min\u001b[0m \u001b[0mrange\u001b[0m\u001b[1;33m(\u001b[0m\u001b[0mn_attributes\u001b[0m\u001b[1;33m)\u001b[0m\u001b[1;33m:\u001b[0m\u001b[1;33m\u001b[0m\u001b[1;33m\u001b[0m\u001b[0m\n\u001b[1;32m---> 13\u001b[1;33m         \u001b[0mattributes\u001b[0m\u001b[1;33m[\u001b[0m\u001b[1;33m:\u001b[0m\u001b[1;33m,\u001b[0m \u001b[0matt\u001b[0m\u001b[1;33m]\u001b[0m \u001b[1;33m=\u001b[0m \u001b[0mnp\u001b[0m\u001b[1;33m.\u001b[0m\u001b[0margmax\u001b[0m\u001b[1;33m(\u001b[0m\u001b[0mkhots\u001b[0m\u001b[1;33m[\u001b[0m\u001b[1;33m:\u001b[0m\u001b[1;33m,\u001b[0m \u001b[0mbase_count\u001b[0m\u001b[1;33m:\u001b[0m\u001b[0mbase_count\u001b[0m \u001b[1;33m+\u001b[0m \u001b[0mdimsize\u001b[0m\u001b[1;33m]\u001b[0m\u001b[1;33m,\u001b[0m \u001b[0maxis\u001b[0m\u001b[1;33m=\u001b[0m\u001b[1;36m1\u001b[0m\u001b[1;33m)\u001b[0m\u001b[1;33m\u001b[0m\u001b[1;33m\u001b[0m\u001b[0m\n\u001b[0m\u001b[0;32m     14\u001b[0m         \u001b[0mbase_count\u001b[0m \u001b[1;33m=\u001b[0m \u001b[0mbase_count\u001b[0m \u001b[1;33m+\u001b[0m \u001b[0mdimsize\u001b[0m\u001b[1;33m\u001b[0m\u001b[1;33m\u001b[0m\u001b[0m\n\u001b[0;32m     15\u001b[0m     \u001b[1;32mreturn\u001b[0m \u001b[0mattributes\u001b[0m\u001b[1;33m\u001b[0m\u001b[1;33m\u001b[0m\u001b[0m\n",
      "\u001b[1;31mValueError\u001b[0m: could not broadcast input array from shape (11917,16) into shape (11917)"
     ]
    }
   ],
   "source": [
    "for d in range(len(datasets)):\n",
    "    \n",
    "    #for run in range(5): \n",
    "    for run in range(1):\n",
    "\n",
    "        path_to_run = paths[d] + 'standard/' + str(run) + '/'\n",
    "        #path_to_interaction = (path_to_run + 'interactions/train/interactions_epoch' + str(n_epochs))\n",
    "        path_to_interaction = (path_to_run + 'interactions/train/epoch_' + str(n_epochs) + '/interaction_gpu0')\n",
    "        interaction = torch.load(path_to_interaction)\n",
    "        print(path_to_interaction)\n",
    "\n",
    "        attributes = n_attributes[d]\n",
    "        values = n_values[d]\n",
    "        scores = information_scores(interaction, attributes, values, normalizer=\"arithmetic\")\n",
    "        \n",
    "        pickle.dump(scores, open(path_to_run + 'entropy_scores.pkl', 'wb'))\n",
    "    "
   ]
  },
  {
   "cell_type": "markdown",
   "metadata": {},
   "source": [
    "###  message length"
   ]
  },
  {
   "cell_type": "code",
   "execution_count": null,
   "metadata": {},
   "outputs": [],
   "source": [
    "# we evaluated message length per hierarchy level after training but \n",
    "# you can also use the HierarchicalMessageLength callback and store the results \n",
    "\n",
    "for d in range(len(datasets)):\n",
    "    \n",
    "    for run in range(5): \n",
    "        \n",
    "        path_to_run = paths[d] + 'standard/' + str(run) + '/'\n",
    "        path_to_interaction = (path_to_run + 'interactions/train/interactions_epoch' + str(n_epochs))\n",
    "        interaction = torch.load(path_to_interaction)\n",
    "\n",
    "        attributes = n_attributes[d]\n",
    "        values = n_values[d]\n",
    "        scores = message_length_per_hierarchy_level(interaction, attributes)\n",
    "        \n",
    "        pickle.dump(scores, open(path_to_run + 'message_length_hierarchical.pkl', 'wb'))"
   ]
  },
  {
   "cell_type": "markdown",
   "metadata": {},
   "source": [
    "###  symbol redundancy"
   ]
  },
  {
   "cell_type": "code",
   "execution_count": null,
   "metadata": {},
   "outputs": [],
   "source": [
    "for d in range(len(datasets)):\n",
    "    \n",
    "    attributes = n_attributes[d]\n",
    "    values = n_values[d]\n",
    "    vs_factor = int(paths[d][-2])\n",
    "    vocab_size = (n_values[d] + 1) * vs_factor + 1\n",
    "    \n",
    "    for run in range(5): \n",
    "        \n",
    "        path_to_run = paths[d] + 'standard/' + str(run) + '/'\n",
    "        symbol_f = np.load(path_to_run + 'symbols_pernsame.npy')\n",
    "        path_to_interaction = (path_to_run + 'interactions/train/interactions_epoch' + str(n_epochs))\n",
    "        interaction = torch.load(path_to_interaction)\n",
    "        redundancy, MI = symbol_frequency(interaction, attributes, values, vocab_size)\n",
    "        \n",
    "        scores = {'symbol_redundancy': redundancy, 'MI_symbol-attribute_value': MI}\n",
    "        \n",
    "        pickle.dump(scores, open(path_to_run + 'symbol_redundancy.pkl', 'wb'))"
   ]
  },
  {
   "cell_type": "markdown",
   "metadata": {},
   "source": [
    "###  compositionality scores: topsim, posdis, bosdis"
   ]
  },
  {
   "cell_type": "code",
   "execution_count": null,
   "metadata": {
    "scrolled": true
   },
   "outputs": [],
   "source": [
    "# topsim\n",
    "# although topsim values are stored throughout training if callbacks are verbose, we reevaluate the\n",
    "# final topsim scores with more data points \n",
    "\n",
    "samples = 5000\n",
    "for d, dataset in enumerate(datasets):\n",
    "    \n",
    "    dim = [n_values[d]]*n_attributes[d]\n",
    "    \n",
    "    for run in range(5):\n",
    "        print(\"dataset\", dataset, \"run\", run)\n",
    "        \n",
    "        topsim_final = {}\n",
    "        path_to_run = paths[d] + 'standard/' + str(run) + '/'\n",
    "        \n",
    "        TOPSIM = TopographicSimilarityHierarchical(dim, is_gumbel=True)\n",
    "        \n",
    "        for mode in ['train', 'test']:\n",
    "\n",
    "            if mode == 'train':\n",
    "                interaction = torch.load(path_to_run + 'interactions/train/interactions_epoch300')\n",
    "            elif mode == 'test':\n",
    "                interaction = torch.load(path_to_run + 'interactions/validation/interactions_epoch300')\n",
    "                \n",
    "                  \n",
    "            messages = interaction.message.argmax(dim=-1)\n",
    "            sender_input = interaction.sender_input\n",
    "\n",
    "            max_relevant = np.where(np.sum(sender_input[:,-len(dim):].numpy(), axis=1)==0)[0]\n",
    "            messages_max_relevant = messages[max_relevant]\n",
    "            sender_input_max_relevant = sender_input[max_relevant]\n",
    "\n",
    "            messages = [msg.tolist() for msg in messages]\n",
    "            messages_max_relevant = [msg.tolist() for msg in messages_max_relevant]\n",
    "\n",
    "            encoded_input = encode_input_for_topsim_hierarchical(sender_input, dim)\n",
    "            encoded_input_max_relevant = encode_input_for_topsim_hierarchical(sender_input_max_relevant, dim)\n",
    "            topsim = TOPSIM.compute_topsim(encoded_input[0:samples], messages[0:samples])\n",
    "            topsim_max_relevant = TOPSIM.compute_topsim(encoded_input_max_relevant[0:samples], \n",
    "                                                        messages_max_relevant[0:samples])\n",
    "            print('... topsim computed')\n",
    "\n",
    "            topsim_final['topsim_' + mode] = topsim\n",
    "            topsim_final['topsim_max_relevance_' + mode] = topsim_max_relevant\n",
    "    \n",
    "        pickle.dump(topsim_final, open(path_to_run +  \"topsim_final.pkl\", \"wb\" ) )\n",
    "        print(topsim_final)        "
   ]
  },
  {
   "cell_type": "code",
   "execution_count": null,
   "metadata": {},
   "outputs": [],
   "source": [
    "# use Disent callback from egg\n",
    "\n",
    "for d in range(len(datasets)): \n",
    "    \n",
    "    path = paths[d]\n",
    "    dim = [n_values[d]] * n_attributes[d]\n",
    "    n_features = n_attributes[d] * n_values[d]\n",
    "    vs_factor = int(path[-2])\n",
    "    vocab_size = (n_values[d] + 1) * vs_factor + 1\n",
    "    \n",
    "    print(\"data set\", dim)\n",
    "    \n",
    "    for run in range(5):\n",
    "        \n",
    "        posdis_bosdis = {}\n",
    "    \n",
    "        path_to_run = paths[d] + 'standard/' + str(run) + '/'\n",
    "        interaction = torch.load(path_to_run + 'interactions/train/interactions_epoch300')\n",
    "        \n",
    "        messages = interaction.message.argmax(dim=-1)\n",
    "        sender_input = interaction.sender_input\n",
    "        objects = sender_input[:,:-n_attributes[d]]\n",
    "        relevance_vectors = sender_input[:,-n_attributes[d]:]\n",
    "\n",
    "        objects_max_relevance = torch.tensor(k_hot_to_attributes(\n",
    "            objects[torch.sum(relevance_vectors, dim=1) == 0], dim[0]))\n",
    "        messages_max_relevance = messages[torch.sum(relevance_vectors, dim=1) == 0]\n",
    "        \n",
    "        posdis_max_relevance = Disent.posdis(objects_max_relevance, messages_max_relevance)\n",
    "        bosdis_max_relevance = Disent.bosdis(objects_max_relevance, messages_max_relevance, vocab_size)\n",
    "        \n",
    "        sender_input_encoded = torch.tensor(encode_input_for_topsim_hierarchical(sender_input, dim))\n",
    "        objects = torch.tensor(k_hot_to_attributes(sender_input_encoded, n_values[d]+1))\n",
    "        \n",
    "        posdis = Disent.posdis(objects, messages)\n",
    "        bosdis = Disent.bosdis(objects, messages, vocab_size)\n",
    "        \n",
    "        posdis_bosdis['posdis_max_relevance'] = posdis_max_relevance\n",
    "        posdis_bosdis['bosdis_max_relevance'] = bosdis_max_relevance\n",
    "        posdis_bosdis['posdis'] = posdis\n",
    "        posdis_bosdis['bosdis'] = bosdis\n",
    "    \n",
    "        pickle.dump(posdis_bosdis, open(path_to_run + \"posdis_bosdis.pkl\", \"wb\" ) )"
   ]
  },
  {
   "cell_type": "markdown",
   "metadata": {},
   "source": [
    "### co-occurrences"
   ]
  },
  {
   "cell_type": "code",
   "execution_count": 6,
   "metadata": {},
   "outputs": [],
   "source": [
    "for d in range(len(datasets)):\n",
    "    \n",
    "    vs_factor = int(paths[d][-2])\n",
    "    \n",
    "    for run in range(5): \n",
    "        \n",
    "        path_to_run = paths[d] + 'standard/' + str(run) + '/'\n",
    "        path_to_interaction = (path_to_run + 'interactions/train/interactions_epoch' + str(n_epochs))\n",
    "        interaction = torch.load(path_to_interaction)\n",
    "\n",
    "        attributes = n_attributes[d]\n",
    "        values = n_values[d]\n",
    "        \n",
    "        scores = cooccurrence_per_hierarchy_level(interaction, attributes, values, vs_factor)\n",
    "        \n",
    "        pickle.dump(scores, open(path_to_run + 'normalized_cooccurrence.pkl', 'wb'))\n",
    "    "
   ]
  },
  {
   "cell_type": "code",
   "execution_count": null,
   "metadata": {},
   "outputs": [],
   "source": []
  }
 ],
 "metadata": {
  "kernelspec": {
   "display_name": "Python 3 (ipykernel)",
   "language": "python",
   "name": "python3"
  },
  "language_info": {
   "codemirror_mode": {
    "name": "ipython",
    "version": 3
   },
   "file_extension": ".py",
   "mimetype": "text/x-python",
   "name": "python",
   "nbconvert_exporter": "python",
   "pygments_lexer": "ipython3",
   "version": "3.6.13"
  }
 },
 "nbformat": 4,
 "nbformat_minor": 4
}
